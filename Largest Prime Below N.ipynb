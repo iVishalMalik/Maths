# Print Largest Prime Number Below N

prime=[2]

def checkPrime(n):
  for i in prime:
    if n%i==0: return
  else: prime.append(n)

for i in range(3,1299828):checkPrime(i)
else:print(prime[-1])
